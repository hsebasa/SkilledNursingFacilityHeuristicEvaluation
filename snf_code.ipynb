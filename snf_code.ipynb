{
 "cells": [
  {
   "cell_type": "markdown",
   "id": "9d5e7290",
   "metadata": {},
   "source": [
    "# About\n",
    "\n",
    "This code is complementary material to the paper **Optimizing Patient Transitions to Skilled Nursing Facilities** by Alvarez Avendaño et al. Here we implement functions to calculate and compare costs of the myopic policy and the heuristic defined in that paper relative to the optimal policy.\n",
    "\n",
    "\n",
    "\n",
    "\n",
    "\n",
    "**Julia version: 1.10.0** \n",
    "\n",
    "**Required packages:**\n",
    "\n",
    "```julia\n",
    "import Pkg;\n",
    "\n",
    "Pkg.add(\"PyCall\")\n",
    "Pkg.add(\"DataFrames\")\n",
    "Pkg.add(\"XLSX\")\n",
    "Pkg.add(\"HDF5\")\n",
    "Pkg.add(\"JLD\")\n",
    "Pkg.add(\"JSON\")\n",
    "\n",
    "Pkg.add(\"LaTeXStrings\")\n",
    "```"
   ]
  },
  {
   "cell_type": "code",
   "execution_count": 1,
   "id": "7fee2f57",
   "metadata": {},
   "outputs": [
    {
     "name": "stderr",
     "output_type": "stream",
     "text": [
      "\u001b[32m\u001b[1m    Updating\u001b[22m\u001b[39m registry at `C:\\Users\\Nagato\\.julia\\registries\\General.toml`\n",
      "\u001b[32m\u001b[1m   Resolving\u001b[22m\u001b[39m package versions...\n",
      "\u001b[32m\u001b[1m  No Changes\u001b[22m\u001b[39m to `C:\\Users\\Nagato\\.julia\\environments\\v1.10\\Project.toml`\n",
      "\u001b[32m\u001b[1m  No Changes\u001b[22m\u001b[39m to `C:\\Users\\Nagato\\.julia\\environments\\v1.10\\Manifest.toml`\n",
      "\u001b[32m\u001b[1m   Resolving\u001b[22m\u001b[39m package versions...\n",
      "\u001b[32m\u001b[1m  No Changes\u001b[22m\u001b[39m to `C:\\Users\\Nagato\\.julia\\environments\\v1.10\\Project.toml`\n",
      "\u001b[32m\u001b[1m  No Changes\u001b[22m\u001b[39m to `C:\\Users\\Nagato\\.julia\\environments\\v1.10\\Manifest.toml`\n",
      "\u001b[32m\u001b[1m   Resolving\u001b[22m\u001b[39m package versions...\n",
      "\u001b[32m\u001b[1m  No Changes\u001b[22m\u001b[39m to `C:\\Users\\Nagato\\.julia\\environments\\v1.10\\Project.toml`\n",
      "\u001b[32m\u001b[1m  No Changes\u001b[22m\u001b[39m to `C:\\Users\\Nagato\\.julia\\environments\\v1.10\\Manifest.toml`\n",
      "\u001b[32m\u001b[1m   Resolving\u001b[22m\u001b[39m package versions...\n",
      "\u001b[32m\u001b[1m  No Changes\u001b[22m\u001b[39m to `C:\\Users\\Nagato\\.julia\\environments\\v1.10\\Project.toml`\n",
      "\u001b[32m\u001b[1m  No Changes\u001b[22m\u001b[39m to `C:\\Users\\Nagato\\.julia\\environments\\v1.10\\Manifest.toml`\n",
      "\u001b[32m\u001b[1m   Resolving\u001b[22m\u001b[39m package versions...\n",
      "\u001b[32m\u001b[1m  No Changes\u001b[22m\u001b[39m to `C:\\Users\\Nagato\\.julia\\environments\\v1.10\\Project.toml`\n",
      "\u001b[32m\u001b[1m  No Changes\u001b[22m\u001b[39m to `C:\\Users\\Nagato\\.julia\\environments\\v1.10\\Manifest.toml`\n",
      "\u001b[32m\u001b[1m   Resolving\u001b[22m\u001b[39m package versions...\n",
      "\u001b[32m\u001b[1m  No Changes\u001b[22m\u001b[39m to `C:\\Users\\Nagato\\.julia\\environments\\v1.10\\Project.toml`\n",
      "\u001b[32m\u001b[1m  No Changes\u001b[22m\u001b[39m to `C:\\Users\\Nagato\\.julia\\environments\\v1.10\\Manifest.toml`\n",
      "\u001b[32m\u001b[1m   Resolving\u001b[22m\u001b[39m package versions...\n",
      "\u001b[32m\u001b[1m  No Changes\u001b[22m\u001b[39m to `C:\\Users\\Nagato\\.julia\\environments\\v1.10\\Project.toml`\n",
      "\u001b[32m\u001b[1m  No Changes\u001b[22m\u001b[39m to `C:\\Users\\Nagato\\.julia\\environments\\v1.10\\Manifest.toml`\n"
     ]
    }
   ],
   "source": [
    "import Pkg;\n",
    "\n",
    "Pkg.add(\"PyCall\")\n",
    "Pkg.add(\"DataFrames\")\n",
    "Pkg.add(\"XLSX\")\n",
    "Pkg.add(\"HDF5\")\n",
    "Pkg.add(\"JLD\")\n",
    "Pkg.add(\"JSON\")\n",
    "\n",
    "Pkg.add(\"LaTeXStrings\")"
   ]
  },
  {
   "cell_type": "markdown",
   "id": "efe42427",
   "metadata": {},
   "source": [
    "# Utilities\n",
    "\n",
    "Here, we define some utility functions for printing transition probability matrices nicely later in the code."
   ]
  },
  {
   "cell_type": "code",
   "execution_count": 2,
   "id": "e3a12804",
   "metadata": {},
   "outputs": [
    {
     "data": {
      "text/plain": [
       "pMat2Latex (generic function with 1 method)"
      ]
     },
     "execution_count": 2,
     "metadata": {},
     "output_type": "execute_result"
    }
   ],
   "source": [
    "function pMat2dict(pMat, l)\n",
    "    digits = 2;\n",
    "    p_matrices = Dict();\n",
    "    for j in 0:l\n",
    "        p_matrices[j] = Dict();\n",
    "        for a in 0:l\n",
    "            P = [[round(pMat(a, j, c, d), digits=digits) for d in [0, 1]] for c in [0, 1]];\n",
    "            p_matrices[j][a] = P;\n",
    "        end\n",
    "    end\n",
    "    return p_matrices;\n",
    "end\n",
    "\n",
    "function matrix2latex(matrix, format=\"matrix\"; align=nothing)\n",
    "    if format == \"matrix\"\n",
    "        st = \"\\\\begin{bmatrix}\\n\";\n",
    "        nd = \"\\\\end{bmatrix}\";\n",
    "    elseif format == \"empty\"\n",
    "        st = \"\";\n",
    "        nd = \"\";\n",
    "    elseif format == \"tabular\"\n",
    "        align_str = join(align, \" \");\n",
    "        st = \"\\\\begin{tabular}{$align_str}\\n\";\n",
    "        nd = \"\\\\end{tabular}\";\n",
    "    else\n",
    "        throw(\"unknown format '$format'\");\n",
    "    end\n",
    "    matrix_tex = st;\n",
    "    matrix_tex *= join([join([string(x) for x in row], \"&\") for row in matrix], (\"\\\\\\\\\"*\"\\n\"));\n",
    "    matrix_tex *= \"\\n\"*nd;\n",
    "    return matrix_tex;\n",
    "end\n",
    "\n",
    "function transMat(pm, l)\n",
    "    function f(a, m, j) \n",
    "        return \"\\\\mathbf{P}^{\"*string(a) * \",\" * string(j) * \"} &= \"*matrix2latex(m)*\",\";\n",
    "    end\n",
    "    tex_arr = [[f(i, pm[j][i], j) for i in 0:l] for j in 0:l];\n",
    "    ktex = matrix2latex(tex_arr, \"empty\");\n",
    "    ktex = \"\\\\begin{align*}\\n\" * ktex * \"\\\\end{align*}\";\n",
    "    return ktex;\n",
    "end\n",
    "\n",
    "function pMat2Latex(pMat, l)\n",
    "    return transMat(pMat2dict(pMat, l), l);\n",
    "end"
   ]
  },
  {
   "cell_type": "markdown",
   "id": "2f95511d",
   "metadata": {},
   "source": [
    "## Construct policies"
   ]
  },
  {
   "cell_type": "markdown",
   "id": "e8fdba71",
   "metadata": {},
   "source": [
    "The state space is given by the set of $(l+1)$-tuples \n",
    "$$\\mathbb{X}:=\\{(i,s_0,s_1,\\ldots,s_l)| i \\in\\{0,1,\\ldots,k\\}, s_j \\in \\{0,1\\}, j=0,1,\\ldots,l\\}.$$\n",
    "where \n",
    "\n",
    "* $i$ denotes patient type,\n",
    "* $k$ is the number of types of patients,\n",
    "* $s_j$ denotes the state of facility $j$, \n",
    "* $l$ is the number of facilities."
   ]
  },
  {
   "cell_type": "code",
   "execution_count": 3,
   "id": "fce28119",
   "metadata": {},
   "outputs": [
    {
     "data": {
      "text/plain": [
       "genStateSpace (generic function with 1 method)"
      ]
     },
     "execution_count": 3,
     "metadata": {},
     "output_type": "execute_result"
    }
   ],
   "source": [
    "function lenStateSpace(k::Int, l::Int)\n",
    "    #=\n",
    "    Returns the size of the state space of the system\n",
    "    k: denotes the number of patients\n",
    "    l: denotes the number of facilities\n",
    "    =#\n",
    "    lenS = (k+1)*(2^(l+1));\n",
    "    return lenS;\n",
    "end\n",
    "\n",
    "function genStateSpace(k::Int, l::Int)\n",
    "    #=\n",
    "    Generates the state space 𝕏 of the system\n",
    "    k: denotes the number of patients\n",
    "    l: denotes the number of facilities\n",
    "    =#\n",
    "    return vec([[a...] for a in collect(Iterators.product(0:k, [0:1 for j in 0:l]...))]);\n",
    "end"
   ]
  },
  {
   "cell_type": "code",
   "execution_count": 4,
   "id": "d6c3a027",
   "metadata": {},
   "outputs": [
    {
     "data": {
      "text/plain": [
       "genR (generic function with 1 method)"
      ]
     },
     "execution_count": 4,
     "metadata": {},
     "output_type": "execute_result"
    }
   ],
   "source": [
    "function genR(readmissions::Array{Array{Float64}})\n",
    "    function r(x::Array{Int}, j::Int)\n",
    "        #=\n",
    "        This function takes a vector state x=[i, s_0, s_1, ..., s_l],\n",
    "        where i is the type of patient, and s_k is the state of facility k for all k,\n",
    "        and a number 0<=j<=l.\n",
    "        \n",
    "        This function returns the cost of readmission for patient i in snf j.\n",
    "        =#\n",
    "        # first number in the array is type of patient\n",
    "        i = x[1];\n",
    "        if i == 0\n",
    "            # patient type 0 represents no patient at this time, thus, cost is always 0\n",
    "            return 0;\n",
    "        end\n",
    "        if j == 0\n",
    "            # facility type 0 represents the event \"send patient home\", and since this option\n",
    "            # is undesirable, the readmission cost is set very high\n",
    "            return 100;\n",
    "        end\n",
    "        return readmissions[j][i];\n",
    "    end\n",
    "    return r;\n",
    "end"
   ]
  },
  {
   "cell_type": "code",
   "execution_count": 5,
   "id": "38c9b355",
   "metadata": {},
   "outputs": [
    {
     "data": {
      "text/plain": [
       "genP (generic function with 1 method)"
      ]
     },
     "execution_count": 5,
     "metadata": {},
     "output_type": "execute_result"
    }
   ],
   "source": [
    "function genP(λ::Function, pMat::Function, l::Int)\n",
    "    function p(x1::Array{Int}, x0::Array{Int}, a::Int)\n",
    "        #=\n",
    "        This function returns the probability P_{X0, X1}^{a} defined\n",
    "        as the probability of transitioning from one state x0 to a state\n",
    "        x1 for SNF a\n",
    "        =#\n",
    "        return λ(x1[1])*prod([pMat(a, j, x0[j+2], x1[j+2]) for j in 0:l]);\n",
    "    end\n",
    "    return p;\n",
    "end"
   ]
  },
  {
   "cell_type": "markdown",
   "id": "c5282221",
   "metadata": {},
   "source": [
    "Next step is to construct the transition probability matrices according to the rules for each scenario. The function \"constructMatrices\" below returns an array of transition probability matrices, which will serve as base matrices to generate transition probability matrices for each scenario. \n",
    "\n",
    "\\begin{align*}\n",
    "\\begin{bmatrix}\n",
    "p^{1, 1}_{1, 1}&1-p^{1, 1}_{1, 2}\\\\\n",
    "p^{1, 1}_{2, 1}&1-p^{1, 1}_{2, 2}\n",
    "\\end{bmatrix}& &\\dots&&\\begin{bmatrix}\n",
    "p^{l, 1}_{1, 1}&1-p^{l, 1}_{1, 2}\\\\\n",
    "p^{l, 1}_{2, 1}&1-p^{l, 1}_{2, 2}\n",
    "\\end{bmatrix}\\\\\n",
    "\\vdots&&\\ddots&&\\vdots\\\\\n",
    "\\begin{bmatrix}\n",
    "p^{1, l}_{1, 1}&1-p^{1, l}_{1, 2}\\\\\n",
    "p^{1, 1}_{2, 1}&1-p^{1, l}_{2, 2}\n",
    "\\end{bmatrix}&&\\dots&&\\begin{bmatrix}\n",
    "p^{l, l}_{1, 1}&1-p^{l, l}_{1, 2}\\\\\n",
    "p^{l, l}_{2, 1}&1-p^{l, l}_{2, 2}\n",
    "\\end{bmatrix}\n",
    "\\end{align*}"
   ]
  },
  {
   "cell_type": "code",
   "execution_count": 6,
   "id": "76a787d4",
   "metadata": {},
   "outputs": [
    {
     "data": {
      "text/plain": [
       "constructMatrices (generic function with 1 method)"
      ]
     },
     "execution_count": 6,
     "metadata": {},
     "output_type": "execute_result"
    }
   ],
   "source": [
    "function constructMatrices(vec)\n",
    "    model_p_ce = [\n",
    "        [[vec[i], 1-vec[i]], [vec[i+1], 1-vec[i+1]]] for i in 1:2:length(vec)\n",
    "    ]\n",
    "    return model_p_ce\n",
    "end"
   ]
  },
  {
   "cell_type": "markdown",
   "id": "76bc627d",
   "metadata": {},
   "source": [
    "the function \"getPmatSc1\" below returns a function that calculates the transition probability matrices according to the rules described for scenario 1\n",
    "\n",
    "\\begin{align*}\n",
    "\\mathbf{P}^{0,0} &= \\begin{bmatrix}\n",
    "0.0&1.0\\\\\n",
    "0.0&1.0\n",
    "\\end{bmatrix},&\\mathbf{P}^{1,0} &= \\begin{bmatrix}\n",
    "0.0&1.0\\\\\n",
    "0.0&1.0\n",
    "\\end{bmatrix},&&\\dots&\\mathbf{P}^{3,0} &= \\begin{bmatrix}\n",
    "0.0&1.0\\\\\n",
    "0.0&1.0\n",
    "\\end{bmatrix}\\\\\n",
    "\\mathbf{P}^{0,1} &= \\begin{bmatrix}\n",
    "0.0&1.0\\\\\n",
    "0.0&1.0\n",
    "\\end{bmatrix},&\\mathbf{P}^{1,1} &= \\begin{bmatrix}\n",
    "p^{1, 1}_{1, 1}&1-p^{1, 1}_{1, 1}\\\\\n",
    "p^{1, 1}_{2, 1}&1-p^{1, 1}_{2, 1}\n",
    "\\end{bmatrix},& &\\dots&\\mathbf{P}^{l,1} &= \\begin{bmatrix}\n",
    "p^{l, 1}_{1, 1}&1-p^{l, 1}_{1, 1}\\\\\n",
    "p^{l, 1}_{2, 1}&1-p^{l, 1}_{2, 1}\n",
    "\\end{bmatrix}\\\\\n",
    "&\\vdots&&\\vdots&&\\ddots&&\\vdots\\\\\n",
    "\\mathbf{P}^{0,l} &= \\begin{bmatrix}\n",
    "0.0&1.0\\\\\n",
    "0.0&1.0\n",
    "\\end{bmatrix},&\\mathbf{P}^{1,l} &= \\begin{bmatrix}\n",
    "p^{1, l}_{1, 1}&1-p^{1, l}_{1, 1}\\\\\n",
    "p^{1, 1}_{2, 1}&1-p^{1, l}_{2, 1}\n",
    "\\end{bmatrix},&&\\dots&\\mathbf{P}^{l,l} &= \\begin{bmatrix}\n",
    "p^{l, l}_{1, 1}&1-p^{l, l}_{1, 1}\\\\\n",
    "p^{l, l}_{2, 1}&1-p^{l, l}_{2, 1}\n",
    "\\end{bmatrix}\n",
    "\\end{align*}"
   ]
  },
  {
   "cell_type": "code",
   "execution_count": 7,
   "id": "6c0b99b5",
   "metadata": {},
   "outputs": [
    {
     "data": {
      "text/plain": [
       "getPmatSc1 (generic function with 1 method)"
      ]
     },
     "execution_count": 7,
     "metadata": {},
     "output_type": "execute_result"
    }
   ],
   "source": [
    "function getPmatSc1(base, beta_11)\n",
    "    function pMat(a, j, c, d)\n",
    "        if a == 0 || j == 0\n",
    "            p = 1\n",
    "        else\n",
    "            mat = base[j]\n",
    "            if c == 0\n",
    "                p = mat[1][2]\n",
    "            elseif c == 1\n",
    "                p = mat[2][2]*(a!=j) + beta_11*mat[2][2]*(a==j)\n",
    "            else\n",
    "                throw(\"not implemented\")\n",
    "            end\n",
    "        end\n",
    "        return float(p*d + (1-p)*(1-d));\n",
    "    end\n",
    "    return pMat\n",
    "end"
   ]
  },
  {
   "cell_type": "code",
   "execution_count": 8,
   "id": "e7fbd064",
   "metadata": {},
   "outputs": [
    {
     "data": {
      "text/plain": [
       "genA (generic function with 1 method)"
      ]
     },
     "execution_count": 8,
     "metadata": {},
     "output_type": "execute_result"
    }
   ],
   "source": [
    "function genA(l::Int, genS)\n",
    "    function A(x::Array{Int})\n",
    "        #=\n",
    "        Let x=[i, s1, s2, ...sl] be the state of the system,\n",
    "        where sk is the state of the SNF k (available:1, unavailable:0).\n",
    "        This function returns the set of available SNFs, \n",
    "        defined as the set {k: sk=1}.\n",
    "        If there's no available SNF, then returns 0,\n",
    "        which means that patient is sent home\n",
    "        =#\n",
    "        if x[1] == 0\n",
    "            return [0];\n",
    "        end\n",
    "        mA = 2:l+1;\n",
    "        ls = [y-1 for y in mA if x[y+1] == 1];\n",
    "        if isempty(ls)\n",
    "            ls = [0];\n",
    "        end\n",
    "        return ls;\n",
    "    end\n",
    "    Aev = Dict(x => A(x) for x in genS);\n",
    "    return function (x) return Aev[x] end;\n",
    "end"
   ]
  },
  {
   "cell_type": "code",
   "execution_count": 9,
   "id": "bee556b7",
   "metadata": {},
   "outputs": [
    {
     "data": {
      "text/plain": [
       "genλ (generic function with 1 method)"
      ]
     },
     "execution_count": 9,
     "metadata": {},
     "output_type": "execute_result"
    }
   ],
   "source": [
    "function genλ(lst)\n",
    "    #=\n",
    "    Generates a function that returns arrival rates for each type of patient\n",
    "    =#\n",
    "    _lambda_ce_sub = lst\n",
    "    _lambda_ce_sub = _lambda_ce_sub/sum(_lambda_ce_sub)\n",
    "    lambda_ce_sub = function (i) return _lambda_ce_sub[i+1] end\n",
    "    return lambda_ce_sub\n",
    "end"
   ]
  },
  {
   "cell_type": "markdown",
   "id": "37cdacbf",
   "metadata": {},
   "source": [
    "## Policies"
   ]
  },
  {
   "cell_type": "code",
   "execution_count": 10,
   "id": "68e74d97",
   "metadata": {},
   "outputs": [
    {
     "data": {
      "text/plain": [
       "genMyopicPolicy (generic function with 1 method)"
      ]
     },
     "execution_count": 10,
     "metadata": {},
     "output_type": "execute_result"
    }
   ],
   "source": [
    "function genMyopicPolicy(A::Function, r::Function, λ::Function, genS)\n",
    "    #=\n",
    "    This function generates the myopic policy given the cost function (r)\n",
    "    and the action space A\n",
    "    =#\n",
    "    function f(x)\n",
    "        s = [r(x, a) for a in A(x)];\n",
    "        return A(x)[argmin(s)];\n",
    "    end\n",
    "    Policy = Dict(x => f(x) for x in genS);\n",
    "    return Policy;\n",
    "end"
   ]
  },
  {
   "cell_type": "code",
   "execution_count": 11,
   "id": "b8b49125",
   "metadata": {},
   "outputs": [
    {
     "data": {
      "text/plain": [
       "genHeuristic2 (generic function with 1 method)"
      ]
     },
     "execution_count": 11,
     "metadata": {},
     "output_type": "execute_result"
    }
   ],
   "source": [
    "function genHeuristic2(r::Function, A::Function, genS)\n",
    "    #=\n",
    "    This function generates the heuristic 2 policy\n",
    "    =#\n",
    "    rCache = Dict(xp => min([r(xp, ap) for ap in A(xp)]...) for xp in genS);\n",
    "    function heur2(λ::Function, p::Function)\n",
    "        function compare(x, xp, a)\n",
    "            rMin = rCache[xp];\n",
    "            return p(xp, x, a)*rMin;\n",
    "        end\n",
    "        function order(x, a)\n",
    "            res = sum([compare(x, xp, a) for xp in genS]);\n",
    "            return r(x, a) + res;\n",
    "        end\n",
    "        return Dict(x => A(x)[argmin([order(x, a) for a in A(x)])] for x in genS);\n",
    "    end\n",
    "    return heur2;\n",
    "end"
   ]
  },
  {
   "cell_type": "markdown",
   "id": "543e0e55",
   "metadata": {},
   "source": [
    "# Policy evaluation"
   ]
  },
  {
   "cell_type": "code",
   "execution_count": 12,
   "id": "f1de1c7c",
   "metadata": {},
   "outputs": [
    {
     "data": {
      "text/plain": [
       "evalPolicyAr (generic function with 2 methods)"
      ]
     },
     "execution_count": 12,
     "metadata": {},
     "output_type": "execute_result"
    }
   ],
   "source": [
    "using LinearAlgebra\n",
    "\n",
    "\n",
    "function genTransitionMatrix(d, genS, p)\n",
    "    #=\n",
    "    Generates transition matrices given a function that calculates probabilities\n",
    "    =#\n",
    "    P_d = [p(xj, xi, d[xi]) for xi in genS, xj in genS];\n",
    "    return P_d;\n",
    "end\n",
    "\n",
    "function evaluatePolicyARRandomPolicy(Pπ::Array{<:Real, 2}, πr::Vector{<:Real}; ind=Nothing)\n",
    "    #=\n",
    "    This function evaluates the expected cost of implementing arbitrary policies \"π\" given the\n",
    "    matrix \"Pπ\", and the cost \"rπ\"\n",
    "    =#\n",
    "    n = size(Pπ, 1);\n",
    "    if ind == Nothing\n",
    "        ind = rand(1:n);\n",
    "    end\n",
    "\n",
    "    M = (1.0I - Pπ);\n",
    "    M[:, ind] .= 1;\n",
    "    invM = inv(M);\n",
    "    z = invM*πr;\n",
    "    g = z[ind];\n",
    "    z[ind] = 0;\n",
    "    h = z;\n",
    "    return h, g;\n",
    "end\n",
    "\n",
    "function evalPolicyAr(d, genS, r, p, ind=Nothing)\n",
    "    #=\n",
    "    This function evaluates the expected cost of implementing arbitrary policies \"d\" given the state space genS,\n",
    "    the readmission cost \"r\", and the function \"p\" that calculates transition probabilities\n",
    "    =#\n",
    "    P_d = genTransitionMatrix(d, genS, p);\n",
    "    r_d = [r(x, d[x]) for x in genS];\n",
    "    \n",
    "    return evaluatePolicyARRandomPolicy(P_d, r_d);\n",
    "end"
   ]
  },
  {
   "cell_type": "code",
   "execution_count": 13,
   "id": "e6bdf651",
   "metadata": {},
   "outputs": [
    {
     "data": {
      "text/plain": [
       "genPπ (generic function with 1 method)"
      ]
     },
     "execution_count": 13,
     "metadata": {},
     "output_type": "execute_result"
    }
   ],
   "source": [
    "function genPπ(A::Function, π::Function, genS, r::Function, p::Function)\n",
    "    #=\n",
    "    Generates the matrix resulting after multiplying the transition probability matrices P\n",
    "    with π\n",
    "    =#\n",
    "    lenS = length(genS);\n",
    "    \n",
    "    Pπ = zeros(lenS, lenS);\n",
    "    @sync begin\n",
    "        for (i, xi) in enumerate(genS), (j, xj) in enumerate(genS)\n",
    "#             Threads.@spawn begin\n",
    "            begin\n",
    "                Pπ[i, j] = sum([p(xj, xi, a)*π(a, xi) for a in A(xi)]);\n",
    "            end\n",
    "        end\n",
    "    end\n",
    "    \n",
    "    πr = zeros(lenS);\n",
    "    @sync begin\n",
    "        for (i, xi) in enumerate(genS)\n",
    "#             Threads.@spawn begin\n",
    "            begin\n",
    "                πr[i] = sum([π(a, xi)*r(xi, a) for a in A(xi)]);\n",
    "            end\n",
    "        end\n",
    "    end\n",
    "    \n",
    "    return Pπ, πr;\n",
    "end"
   ]
  },
  {
   "cell_type": "markdown",
   "id": "95ca6bb6",
   "metadata": {},
   "source": [
    "# Policy iteration"
   ]
  },
  {
   "cell_type": "code",
   "execution_count": 14,
   "id": "bf62887c",
   "metadata": {},
   "outputs": [
    {
     "data": {
      "text/plain": [
       "hImprovingAr (generic function with 1 method)"
      ]
     },
     "execution_count": 14,
     "metadata": {},
     "output_type": "execute_result"
    }
   ],
   "source": [
    "function hImprovingAr(h_n, g_n, lenS, genS, A, r, p)\n",
    "    function tradeOffAr(x0, a)\n",
    "        return r(x0, a) - g_n + sum(p(genS[i], x0, a)*h_n[i] for i in 1:lenS);\n",
    "    end\n",
    "    \n",
    "    d_np1 = Dict();\n",
    "    for s in genS\n",
    "        As = A(s);\n",
    "        a_opt = As[argmin([tradeOffAr(s, a) for a in As])];\n",
    "        d_np1[s] = a_opt;\n",
    "    end\n",
    "    return d_np1;\n",
    "end"
   ]
  },
  {
   "cell_type": "code",
   "execution_count": 15,
   "id": "3e63c576",
   "metadata": {},
   "outputs": [
    {
     "data": {
      "text/plain": [
       "policyIterationAr (generic function with 1 method)"
      ]
     },
     "execution_count": 15,
     "metadata": {},
     "output_type": "execute_result"
    }
   ],
   "source": [
    "function policyIterationAr(d_0, lenS, genS, A, r, p; n_max=100, verbose=false)\n",
    "    #=\n",
    "    This function implements the policy iteration algorithm, and returns the optimal policy\n",
    "    given a starting policy \"d_0\", the state space \"genS\", the length of the state space \"lenS\"\n",
    "    the action space \"A\", cost \"r\", and transition probabilities \"p\"\n",
    "    =#\n",
    "    h_n = Nothing;\n",
    "    g_n = Nothing;\n",
    "    d_n = d_0;\n",
    "    \n",
    "    for it in 1:n_max\n",
    "        h_n, g_n = evalPolicyAr(d_n, genS, r, p);\n",
    "        d_np1 = hImprovingAr(h_n, g_n, lenS, genS, A, r, p);\n",
    "        if d_n == d_np1\n",
    "            if verbose\n",
    "                println(\"\\nConverged (iteration={})\".format(it));\n",
    "            end\n",
    "            break;\n",
    "        end\n",
    "        d_n = d_np1;\n",
    "    end\n",
    "    return d_n, h_n, g_n;\n",
    "end"
   ]
  },
  {
   "cell_type": "markdown",
   "id": "cea01ca2",
   "metadata": {},
   "source": [
    "# Run"
   ]
  },
  {
   "cell_type": "markdown",
   "id": "0cee5973",
   "metadata": {},
   "source": [
    "## Data"
   ]
  },
  {
   "cell_type": "code",
   "execution_count": 16,
   "id": "b34f069f",
   "metadata": {},
   "outputs": [],
   "source": [
    "# Matrix with readmission rates defined in the paper\n",
    "readmissions = Array{Array{Float64}}([\n",
    "    [14.3,  9.5, 19.1, 19.2],\n",
    "    [16.4, 12.8, 20.1, 20.4],\n",
    "    [15.6, 12.4, 20.6, 20.2],\n",
    "    [9.1,   8.7, 11.2, 19.6],\n",
    "    [20.6,  5.8, 19.0, 13.4],\n",
    "]);\n",
    "\n",
    "K = 4;  # Number of types of patients\n",
    "L = 5;  # Number of SNFs\n",
    "\n",
    "lenS = lenStateSpace(K, L);  # length of state space\n",
    "genS = genStateSpace(K, L);  # State space\n",
    "\n",
    "A = genA(L, genS);  # Action space\n",
    "\n",
    "r = genR(readmissions);  # Function that returns costs of assigning patient type i to SNF j\n",
    "λ = genλ([0.2, 0.2, 0.2, 0.2, 0.2]);  # Function that returns arrival rates\n",
    "\n",
    "mat = constructMatrices([0.1 0.1 0.9 0.1 0.9 0.1 0.9 0.1 0.9 0.1 ]);\n",
    "pMatSc1 = getPmatSc1(mat, 0.5);\n",
    "p = genP(λ, pMatSc1, L);  # Transition probability matrices"
   ]
  },
  {
   "cell_type": "code",
   "execution_count": 17,
   "id": "80f41fbc",
   "metadata": {},
   "outputs": [
    {
     "data": {
      "text/markdown": [
       "\\begin{align*}\n",
       "\\mathbf{P}^{0,0} &= \\begin{bmatrix}\n",
       "0.0&1.0\\\\\n",
       "0.0&1.0\n",
       "\\end{bmatrix},&\\mathbf{P}^{1,0} &= \\begin{bmatrix}\n",
       "0.0&1.0\\\\\n",
       "0.0&1.0\n",
       "\\end{bmatrix},&\\mathbf{P}^{2,0} &= \\begin{bmatrix}\n",
       "0.0&1.0\\\\\n",
       "0.0&1.0\n",
       "\\end{bmatrix},&\\mathbf{P}^{3,0} &= \\begin{bmatrix}\n",
       "0.0&1.0\\\\\n",
       "0.0&1.0\n",
       "\\end{bmatrix},&\\mathbf{P}^{4,0} &= \\begin{bmatrix}\n",
       "0.0&1.0\\\\\n",
       "0.0&1.0\n",
       "\\end{bmatrix},&\\mathbf{P}^{5,0} &= \\begin{bmatrix}\n",
       "0.0&1.0\\\\\n",
       "0.0&1.0\n",
       "\\end{bmatrix},\\\\\n",
       "\\mathbf{P}^{0,1} &= \\begin{bmatrix}\n",
       "0.0&1.0\\\\\n",
       "0.0&1.0\n",
       "\\end{bmatrix},&\\mathbf{P}^{1,1} &= \\begin{bmatrix}\n",
       "0.1&0.9\\\\\n",
       "0.55&0.45\n",
       "\\end{bmatrix},&\\mathbf{P}^{2,1} &= \\begin{bmatrix}\n",
       "0.1&0.9\\\\\n",
       "0.1&0.9\n",
       "\\end{bmatrix},&\\mathbf{P}^{3,1} &= \\begin{bmatrix}\n",
       "0.1&0.9\\\\\n",
       "0.1&0.9\n",
       "\\end{bmatrix},&\\mathbf{P}^{4,1} &= \\begin{bmatrix}\n",
       "0.1&0.9\\\\\n",
       "0.1&0.9\n",
       "\\end{bmatrix},&\\mathbf{P}^{5,1} &= \\begin{bmatrix}\n",
       "0.1&0.9\\\\\n",
       "0.1&0.9\n",
       "\\end{bmatrix},\\\\\n",
       "\\mathbf{P}^{0,2} &= \\begin{bmatrix}\n",
       "0.0&1.0\\\\\n",
       "0.0&1.0\n",
       "\\end{bmatrix},&\\mathbf{P}^{1,2} &= \\begin{bmatrix}\n",
       "0.9&0.1\\\\\n",
       "0.1&0.9\n",
       "\\end{bmatrix},&\\mathbf{P}^{2,2} &= \\begin{bmatrix}\n",
       "0.9&0.1\\\\\n",
       "0.55&0.45\n",
       "\\end{bmatrix},&\\mathbf{P}^{3,2} &= \\begin{bmatrix}\n",
       "0.9&0.1\\\\\n",
       "0.1&0.9\n",
       "\\end{bmatrix},&\\mathbf{P}^{4,2} &= \\begin{bmatrix}\n",
       "0.9&0.1\\\\\n",
       "0.1&0.9\n",
       "\\end{bmatrix},&\\mathbf{P}^{5,2} &= \\begin{bmatrix}\n",
       "0.9&0.1\\\\\n",
       "0.1&0.9\n",
       "\\end{bmatrix},\\\\\n",
       "\\mathbf{P}^{0,3} &= \\begin{bmatrix}\n",
       "0.0&1.0\\\\\n",
       "0.0&1.0\n",
       "\\end{bmatrix},&\\mathbf{P}^{1,3} &= \\begin{bmatrix}\n",
       "0.9&0.1\\\\\n",
       "0.1&0.9\n",
       "\\end{bmatrix},&\\mathbf{P}^{2,3} &= \\begin{bmatrix}\n",
       "0.9&0.1\\\\\n",
       "0.1&0.9\n",
       "\\end{bmatrix},&\\mathbf{P}^{3,3} &= \\begin{bmatrix}\n",
       "0.9&0.1\\\\\n",
       "0.55&0.45\n",
       "\\end{bmatrix},&\\mathbf{P}^{4,3} &= \\begin{bmatrix}\n",
       "0.9&0.1\\\\\n",
       "0.1&0.9\n",
       "\\end{bmatrix},&\\mathbf{P}^{5,3} &= \\begin{bmatrix}\n",
       "0.9&0.1\\\\\n",
       "0.1&0.9\n",
       "\\end{bmatrix},\\\\\n",
       "\\mathbf{P}^{0,4} &= \\begin{bmatrix}\n",
       "0.0&1.0\\\\\n",
       "0.0&1.0\n",
       "\\end{bmatrix},&\\mathbf{P}^{1,4} &= \\begin{bmatrix}\n",
       "0.9&0.1\\\\\n",
       "0.1&0.9\n",
       "\\end{bmatrix},&\\mathbf{P}^{2,4} &= \\begin{bmatrix}\n",
       "0.9&0.1\\\\\n",
       "0.1&0.9\n",
       "\\end{bmatrix},&\\mathbf{P}^{3,4} &= \\begin{bmatrix}\n",
       "0.9&0.1\\\\\n",
       "0.1&0.9\n",
       "\\end{bmatrix},&\\mathbf{P}^{4,4} &= \\begin{bmatrix}\n",
       "0.9&0.1\\\\\n",
       "0.55&0.45\n",
       "\\end{bmatrix},&\\mathbf{P}^{5,4} &= \\begin{bmatrix}\n",
       "0.9&0.1\\\\\n",
       "0.1&0.9\n",
       "\\end{bmatrix},\\\\\n",
       "\\mathbf{P}^{0,5} &= \\begin{bmatrix}\n",
       "0.0&1.0\\\\\n",
       "0.0&1.0\n",
       "\\end{bmatrix},&\\mathbf{P}^{1,5} &= \\begin{bmatrix}\n",
       "0.9&0.1\\\\\n",
       "0.1&0.9\n",
       "\\end{bmatrix},&\\mathbf{P}^{2,5} &= \\begin{bmatrix}\n",
       "0.9&0.1\\\\\n",
       "0.1&0.9\n",
       "\\end{bmatrix},&\\mathbf{P}^{3,5} &= \\begin{bmatrix}\n",
       "0.9&0.1\\\\\n",
       "0.1&0.9\n",
       "\\end{bmatrix},&\\mathbf{P}^{4,5} &= \\begin{bmatrix}\n",
       "0.9&0.1\\\\\n",
       "0.1&0.9\n",
       "\\end{bmatrix},&\\mathbf{P}^{5,5} &= \\begin{bmatrix}\n",
       "0.9&0.1\\\\\n",
       "0.55&0.45\n",
       "\\end{bmatrix},\n",
       "\\end{align*}"
      ]
     },
     "metadata": {},
     "output_type": "display_data"
    }
   ],
   "source": [
    "display(\"text/markdown\", pMat2Latex(pMatSc1, 5))"
   ]
  },
  {
   "cell_type": "code",
   "execution_count": 18,
   "id": "b662908e",
   "metadata": {},
   "outputs": [],
   "source": [
    "myopicPolicy = genMyopicPolicy(A, r, λ, genS);"
   ]
  },
  {
   "cell_type": "code",
   "execution_count": 19,
   "id": "be8fcccb",
   "metadata": {},
   "outputs": [],
   "source": [
    "heuristic2 = genHeuristic2(r, A, genS)(λ, p);"
   ]
  },
  {
   "cell_type": "code",
   "execution_count": 20,
   "id": "2f971fc5",
   "metadata": {},
   "outputs": [],
   "source": [
    "optimalPolicy, _, gOpt = policyIterationAr(heuristic2, lenS, genS, A, r, p);"
   ]
  },
  {
   "cell_type": "code",
   "execution_count": 21,
   "id": "1b9c94e6",
   "metadata": {},
   "outputs": [],
   "source": [
    "_, gmyopic = evalPolicyAr(myopicPolicy, genS, r, p);\n",
    "_, gh2 = evalPolicyAr(heuristic2, genS, r, p);"
   ]
  },
  {
   "cell_type": "code",
   "execution_count": 22,
   "id": "4e65b07e",
   "metadata": {},
   "outputs": [
    {
     "data": {
      "text/plain": [
       "(11.200986958462382, 11.361485755956327, 11.209923376395233)"
      ]
     },
     "execution_count": 22,
     "metadata": {},
     "output_type": "execute_result"
    }
   ],
   "source": [
    "gOpt, gmyopic, gh2"
   ]
  }
 ],
 "metadata": {
  "kernelspec": {
   "display_name": "Julia 1.10.0",
   "language": "julia",
   "name": "julia-1.10"
  },
  "language_info": {
   "file_extension": ".jl",
   "mimetype": "application/julia",
   "name": "julia",
   "version": "1.10.0"
  }
 },
 "nbformat": 4,
 "nbformat_minor": 5
}
