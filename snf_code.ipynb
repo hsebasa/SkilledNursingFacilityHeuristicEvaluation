{
 "cells": [
  {
   "cell_type": "markdown",
   "id": "9d5e7290",
   "metadata": {},
   "source": [
    "# Utilities\n",
    "\n",
    "```julia\n",
    "import Pkg;\n",
    "\n",
    "Pkg.add(\"PyCall\")\n",
    "Pkg.add(\"DataFrames\")\n",
    "Pkg.add(\"XLSX\")\n",
    "Pkg.add(\"HDF5\")\n",
    "Pkg.add(\"JLD\")\n",
    "Pkg.add(\"JSON\")\n",
    "\n",
    "Pkg.add(\"LaTeXStrings\")\n",
    "```"
   ]
  },
  {
   "cell_type": "code",
   "execution_count": 1,
   "id": "54bddacb",
   "metadata": {},
   "outputs": [
    {
     "data": {
      "text/plain": [
       "genLoading (generic function with 2 methods)"
      ]
     },
     "execution_count": 1,
     "metadata": {},
     "output_type": "execute_result"
    }
   ],
   "source": [
    "using Printf\n",
    "using Dates\n",
    "\n",
    "\n",
    "function genLoading(nmax::Int, leg::Array{Float64}=[0, 0.01, 0.05, 0.1, 0.2, 0.3, 0.4, 0.6, 0.8, 0.9, 0.99, 1])\n",
    "    #=\n",
    "    utilitary function for showing estimated time remaining\n",
    "    =#\n",
    "    t0 = now();\n",
    "    lt = now();\n",
    "    \n",
    "    function loading(i::Int)\n",
    "        perc = i/nmax;\n",
    "        f = abs.(leg.-perc) .< 1/nmax;\n",
    "        t1 = now();\n",
    "        et =  round(t1-lt, Dates.Second).value;\n",
    "        if (sum(f) >= 1) || (et > 600) || (i==1)\n",
    "            elapsed = t1-t0;\n",
    "            period = Dates.canonicalize(Dates.CompoundPeriod(elapsed));\n",
    "            rem = Dates.canonicalize(Dates.CompoundPeriod(round((nmax-i)/i)*elapsed));\n",
    "            @printf(\"Loading... %3.1f%% \\t (%s) - (%s)\\n\", perc*100, period, rem);\n",
    "            lt = now();\n",
    "        end\n",
    "        return nothing;\n",
    "    end\n",
    "    return loading;\n",
    "end"
   ]
  },
  {
   "cell_type": "markdown",
   "id": "2f95511d",
   "metadata": {},
   "source": [
    "## Construct policies"
   ]
  },
  {
   "cell_type": "markdown",
   "id": "e8fdba71",
   "metadata": {},
   "source": [
    "The state space is given by the set of $l+1$-tuples \n",
    "$$\\mathbb{X}:=\\{(i,s_0,s_1,\\ldots,s_l)| i \\in\\{0,1,\\ldots,k\\}, s_j \\in \\{0,1\\}, j=0,1,\\ldots,l\\}.$$\n",
    "where \n",
    "\n",
    "* $i$ denotes patient type,\n",
    "* $k$ is the number of types of patients,\n",
    "* $s_j$ denotes the state of facility $j$, \n",
    "* $l$ is the number of facilities."
   ]
  },
  {
   "cell_type": "code",
   "execution_count": 1,
   "id": "fce28119",
   "metadata": {},
   "outputs": [
    {
     "data": {
      "text/plain": [
       "genStateSpace (generic function with 1 method)"
      ]
     },
     "execution_count": 1,
     "metadata": {},
     "output_type": "execute_result"
    }
   ],
   "source": [
    "function lenStateSpace(k::Int, l::Int)\n",
    "    #=\n",
    "    Returns the size of the state space of the system\n",
    "    k: denotes the number of patients\n",
    "    l: denotes the number of facilities\n",
    "    =#\n",
    "    lenS = (k+1)*(2^(l+1));\n",
    "    return lenS;\n",
    "end\n",
    "\n",
    "function genStateSpace(k::Int, l::Int)\n",
    "    #=\n",
    "    Generates the state space 𝕏 of the system\n",
    "    k: denotes the number of patients\n",
    "    l: denotes the number of facilities\n",
    "    =#\n",
    "    return vec(collect(Iterators.product(0:k, [0:1 for j in 0:l]...)));\n",
    "end"
   ]
  },
  {
   "cell_type": "code",
   "execution_count": 2,
   "id": "d6c3a027",
   "metadata": {},
   "outputs": [
    {
     "data": {
      "text/plain": [
       "genR (generic function with 1 method)"
      ]
     },
     "execution_count": 2,
     "metadata": {},
     "output_type": "execute_result"
    }
   ],
   "source": [
    "function genR(readmissions::Array{Array{Float64}})\n",
    "    function r(x::Array{Int}, j::Int)\n",
    "        #=\n",
    "        This function takes a vector state x=[i, s_0, s_1, ..., s_l],\n",
    "        where i is the type of patient, and s_k is the state of facility k for all k,\n",
    "        and a number 0<=j<=l.\n",
    "        \n",
    "        This function returns the cost of readmission for patient i in snf j.\n",
    "        =#\n",
    "        # first number in the array is type of patient\n",
    "        i = x[1];\n",
    "        if i == 0\n",
    "            # patient type 0 represents no patient at this time, thus, cost is always 0\n",
    "            return 0;\n",
    "        end\n",
    "        if j == 0\n",
    "            # facility type 0 represents the event \"send patient home\", and since this option\n",
    "            # is undesirable, the readmission cost is set very high\n",
    "            return 100;\n",
    "        end\n",
    "        return readmissions[j][i];\n",
    "    end\n",
    "    return r;\n",
    "end"
   ]
  },
  {
   "cell_type": "code",
   "execution_count": null,
   "id": "38c9b355",
   "metadata": {},
   "outputs": [],
   "source": [
    "function genP(λ::Function, pMat::Function, l::Int)\n",
    "    function p(x1::Array{Int}, x0::Array{Int}, a::Int)\n",
    "        #=\n",
    "        This function returns the probability P_{X0, X1}^{a} defined\n",
    "        as the probability of transitioning from one state x0 to a state\n",
    "        x1 for SNF a\n",
    "        =#\n",
    "        return λ(x1[1])*prod([pMat(a, j, x0[j+2], x1[j+2]) for j in 0:l]);\n",
    "    end\n",
    "    return p;\n",
    "end"
   ]
  },
  {
   "cell_type": "markdown",
   "id": "76bc627d",
   "metadata": {},
   "source": [
    "the function \"constructMatrices\" below defines the transition probability matrices\n",
    "\n",
    "\\begin{align*}\n",
    "\\mathbf{P}^{0,0} &= \\begin{bmatrix}\n",
    "0.0&1.0\\\\\n",
    "0.0&1.0\n",
    "\\end{bmatrix},&\\mathbf{P}^{1,0} &= \\begin{bmatrix}\n",
    "0.0&1.0\\\\\n",
    "0.0&1.0\n",
    "\\end{bmatrix},&&\\dots&\\mathbf{P}^{3,0} &= \\begin{bmatrix}\n",
    "0.0&1.0\\\\\n",
    "0.0&1.0\n",
    "\\end{bmatrix}\\\\\n",
    "\\mathbf{P}^{0,1} &= \\begin{bmatrix}\n",
    "0.0&1.0\\\\\n",
    "0.0&1.0\n",
    "\\end{bmatrix},&\\mathbf{P}^{1,1} &= \\begin{bmatrix}\n",
    "p^{1, 1}_{1, 1}&1-p^{1, 1}_{1, 1}\\\\\n",
    "p^{1, 1}_{2, 1}&1-p^{1, 1}_{2, 1}\n",
    "\\end{bmatrix},& &\\dots&\\mathbf{P}^{l,1} &= \\begin{bmatrix}\n",
    "p^{l, 1}_{1, 1}&1-p^{l, 1}_{1, 1}\\\\\n",
    "p^{l, 1}_{2, 1}&1-p^{l, 1}_{2, 1}\n",
    "\\end{bmatrix}\\\\\n",
    "&\\vdots&&\\vdots&&\\ddots&&\\vdots\\\\\n",
    "\\mathbf{P}^{0,l} &= \\begin{bmatrix}\n",
    "0.0&1.0\\\\\n",
    "0.0&1.0\n",
    "\\end{bmatrix},&\\mathbf{P}^{1,l} &= \\begin{bmatrix}\n",
    "p^{1, l}_{1, 1}&1-p^{1, l}_{1, 1}\\\\\n",
    "p^{1, 1}_{2, 1}&1-p^{1, l}_{2, 1}\n",
    "\\end{bmatrix},&&\\dots&\\mathbf{P}^{l,l} &= \\begin{bmatrix}\n",
    "p^{l, l}_{1, 1}&1-p^{l, l}_{1, 1}\\\\\n",
    "p^{l, l}_{2, 1}&1-p^{l, l}_{2, 1}\n",
    "\\end{bmatrix}\n",
    "\\end{align*}"
   ]
  },
  {
   "cell_type": "code",
   "execution_count": null,
   "id": "76a787d4",
   "metadata": {},
   "outputs": [],
   "source": [
    "function constructMatrices(vec)\n",
    "    model_p_ce = [\n",
    "        [[vec[i], 1-vec[i]], [vec[i+1], 1-vec[i+1]]] for i in 1:2:length(vec)\n",
    "    ]\n",
    "    return model_p_ce\n",
    "end"
   ]
  },
  {
   "cell_type": "code",
   "execution_count": null,
   "id": "e7fbd064",
   "metadata": {},
   "outputs": [],
   "source": [
    "function genA(l::Int, genS)\n",
    "    function A(x::Array{Int})\n",
    "        #=\n",
    "        Let x=[i, s1, s2, ...sl] be the state of the system,\n",
    "        where sk is the state of the SNF k (available:1, unavailable:0).\n",
    "        This function returns the set of available SNFs given the\n",
    "        state of the system, defined as the set {k: sk=1}.\n",
    "        If there's no viable options, then, returns the SNF 0,\n",
    "        which sends patient home\n",
    "        =#\n",
    "        if x[1] == 0\n",
    "            return [0];\n",
    "        end\n",
    "        mA = 2:l+1;\n",
    "        ls = [y-1 for y in mA if x[y+1] == 1];\n",
    "        if isempty(ls)\n",
    "            ls = [0];\n",
    "        end\n",
    "        return ls;\n",
    "    end\n",
    "    Aev = Dict(x => A(x) for x in genS);\n",
    "    return function (x) return Aev[x] end;\n",
    "end"
   ]
  },
  {
   "cell_type": "markdown",
   "id": "37cdacbf",
   "metadata": {},
   "source": [
    "## Policies"
   ]
  },
  {
   "cell_type": "code",
   "execution_count": null,
   "id": "68e74d97",
   "metadata": {},
   "outputs": [],
   "source": [
    "function genMyopicPolicy(A::Function, r::Function, λ::Function, genS)\n",
    "    #=\n",
    "    This function generates the myopic policy\n",
    "    =#\n",
    "    function f(x)\n",
    "        s = [r(x, a) for a in A(x)];\n",
    "        return A(x)[argmin(s)];\n",
    "    end\n",
    "    Policy = Dict(x => f(x) for x in genS);\n",
    "    return Policy;\n",
    "end"
   ]
  },
  {
   "cell_type": "code",
   "execution_count": null,
   "id": "b8b49125",
   "metadata": {},
   "outputs": [],
   "source": [
    "function genHeuristic2(r::Function, A::Function, genS::Array{Array{Int}})\n",
    "    #=\n",
    "    This function generates the heuristic 2 policy\n",
    "    =#\n",
    "    rCache = Dict(xp => min([r(xp, ap) for ap in A(xp)]...) for xp in genS);\n",
    "    function heur2(λ::Function, p::Function)\n",
    "        function compare(x, xp, a)\n",
    "            rMin = rCache[xp];\n",
    "            return p(xp, x, a)*rMin;\n",
    "        end\n",
    "        function order(x, a)\n",
    "            res = sum([compare(x, xp, a) for xp in genS]);\n",
    "            return r(x, a) + res;\n",
    "        end\n",
    "        return Dict(x => A(x)[argmin([order(x, a) for a in A(x)])] for x in genS);\n",
    "    end\n",
    "    return heur2;\n",
    "end"
   ]
  },
  {
   "cell_type": "markdown",
   "id": "f931e9a4",
   "metadata": {},
   "source": [
    "For heuristic 3, since it is computationally expensive, then we first create a \"cache\" dictionary with the two-step ahead costs, defined in the function \"genTransitionProbabilityCache\" below, and then use that to evaluate the third heuristic using the function \"genHeuristic3\" below"
   ]
  },
  {
   "cell_type": "code",
   "execution_count": null,
   "id": "ccd8bb95",
   "metadata": {},
   "outputs": [],
   "source": [
    "function genTransitionProbabilityCache(lenS::Int, genS::Array{Array{Int}}, p::Function, n::Int, l::Int)\n",
    "    P = Dict(a => [p(genS[j], genS[i], a) for i in 1:lenS, j in 1:lenS] for a in 0:l);\n",
    "    cachePn = Dict(k => Dict(a => P[a]^k for a in 0:l) for k in 1:n);\n",
    "    cacheEv = Dict();\n",
    "    cacheInd = Dict(a => i for (a, i) in zip(genS, 1:lenS));\n",
    "    for k in 1:n\n",
    "        function func(x2, x0, a)\n",
    "            idx0 = cacheInd[hcat(x0...)];\n",
    "            idx2 = cacheInd[hcat(x2...)];\n",
    "            return cachePn[k][a][idx0, idx2];\n",
    "        end\n",
    "        cacheEv[k] = func;\n",
    "    end\n",
    "    return cacheEv;\n",
    "end\n",
    "\n",
    "function genHeuristic3(r::Function, A::Function, genS::Array{Array{Int}}, lenS::Int, l::Int; ran_n::Array{Int}=[1], ran_w::Array{Int}=[1])\n",
    "    rCache = Dict(xp => min([r(xp, ap) for ap in A(xp)]...) for xp in genS);\n",
    "    function heur3(λ, p)\n",
    "        cachePn = genTransitionProbabilityCache(lenS, genS, p, max(ran_n...), l);\n",
    "        function compare(x::Array{Int}, xp::Array{Int}, a::Int; k::Int=1)\n",
    "            rMin = rCache[xp];\n",
    "            return cachePn[k](xp, x, a)*rMin;\n",
    "        end\n",
    "        function order(x::Array{Int}, a::Int, n::Int, w::Int)\n",
    "            res = sum(sum([compare(x, xp, a, k=k)*(w^k) for xp in genS]) for k in 1:n);\n",
    "            return r(x, a) + res;\n",
    "        end\n",
    "        \n",
    "        pols = [];\n",
    "        for n in ran_n\n",
    "            pols_n = [];\n",
    "            for w in ran_w\n",
    "                policy = Dict(x => A(x)[argmin([order(x, a, n, w) for a in A(x)])] for x in genS);\n",
    "                push!(pols_n, policy);\n",
    "            end\n",
    "            push!(pols, pols_n);\n",
    "        end\n",
    "        return pols;\n",
    "    end\n",
    "    return heur3;\n",
    "end"
   ]
  },
  {
   "cell_type": "markdown",
   "id": "0cee5973",
   "metadata": {},
   "source": [
    "# Data"
   ]
  },
  {
   "cell_type": "code",
   "execution_count": 5,
   "id": "b34f069f",
   "metadata": {},
   "outputs": [
    {
     "data": {
      "text/plain": [
       "r (generic function with 1 method)"
      ]
     },
     "execution_count": 5,
     "metadata": {},
     "output_type": "execute_result"
    }
   ],
   "source": [
    "# Matrix with readmission rates defined in the paper\n",
    "readmissions = Array{Array{Float64}}([\n",
    "    [14.3,  9.5, 19.1, 19.2],\n",
    "    [16.4, 12.8, 20.1, 20.4],\n",
    "    [15.6, 12.4, 20.6, 20.2],\n",
    "    [9.1,   8.7, 11.2, 19.6],\n",
    "    [20.6,  5.8, 19.0, 13.4],\n",
    "])\n",
    "\n",
    "r = genR(readmissions);"
   ]
  },
  {
   "cell_type": "markdown",
   "id": "543e0e55",
   "metadata": {},
   "source": [
    "# Policy evaluation"
   ]
  },
  {
   "cell_type": "code",
   "execution_count": null,
   "id": "bf62887c",
   "metadata": {},
   "outputs": [],
   "source": [
    "function hImprovingAr(h_n, g_n, lenS, genS, A, r, p)\n",
    "    function tradeOffAr(x0, a)\n",
    "        return r(x0, a) - g_n + sum(p(genS[i], x0, a)*h_n[i] for i in 1:lenS);\n",
    "    end\n",
    "    \n",
    "    d_np1 = Dict();\n",
    "    for s in genS\n",
    "        As = A(s);\n",
    "        a_opt = As[argmin([trade_off_ar(s, a) for a in As])];\n",
    "        d_np1[s] = a_opt;\n",
    "    end\n",
    "    return d_np1;\n",
    "end"
   ]
  },
  {
   "cell_type": "code",
   "execution_count": null,
   "id": "f1de1c7c",
   "metadata": {},
   "outputs": [],
   "source": [
    "using LinearAlgebra\n",
    "\n",
    "\n",
    "function genTransitionMatrix(d, genS, p)\n",
    "    P_d = [p(xj, xi, d[xi]) for xi in genS, xj in genS];\n",
    "    return P_d;\n",
    "end\n",
    "\n",
    "function evalPolicyAr(d, genS, r, p, ind=Nothing)\n",
    "    P_d = genTransitionMatrix(d, genS, p);\n",
    "    r_d = [r(x, d[x]) for x in genS];\n",
    "    \n",
    "    n = size(P_d, 1);\n",
    "    if ind == Nothing\n",
    "        ind = rand(1:n);\n",
    "    end\n",
    "\n",
    "    M = (1.0I - P_d);\n",
    "    M[:, ind] .= 1;\n",
    "    invM = inv(M);\n",
    "    z = invM*r_d;\n",
    "    g = z[ind];\n",
    "    z[ind] = 0;\n",
    "    h = z;\n",
    "    return h, g;\n",
    "end"
   ]
  },
  {
   "cell_type": "code",
   "execution_count": 8,
   "id": "e6bdf651",
   "metadata": {},
   "outputs": [
    {
     "data": {
      "text/plain": [
       "evaluatePolicyARRandomPolicy (generic function with 1 method)"
      ]
     },
     "execution_count": 8,
     "metadata": {},
     "output_type": "execute_result"
    }
   ],
   "source": [
    "function genPπ(A::Function, π::Function, genS, r::Function, p::Function)\n",
    "    lenS = length(genS);\n",
    "    \n",
    "    Pπ = zeros(lenS, lenS);\n",
    "    @sync begin\n",
    "        for (i, xi) in enumerate(genS), (j, xj) in enumerate(genS)\n",
    "#             Threads.@spawn begin\n",
    "            begin\n",
    "                Pπ[i, j] = sum([p(xj, xi, a)*π(a, xi) for a in A(xi)]);\n",
    "            end\n",
    "        end\n",
    "    end\n",
    "    \n",
    "    πr = zeros(lenS);\n",
    "    @sync begin\n",
    "        for (i, xi) in enumerate(genS)\n",
    "#             Threads.@spawn begin\n",
    "            begin\n",
    "                πr[i] = sum([π(a, xi)*r(xi, a) for a in A(xi)]);\n",
    "            end\n",
    "        end\n",
    "    end\n",
    "    \n",
    "    return Pπ, πr;\n",
    "end\n",
    "\n",
    "function evaluatePolicyARRandomPolicy(Pπ::Array{Float64, 2}, πr::Vector{Float64}; ind=Nothing)\n",
    "    n = size(Pπ, 1);\n",
    "    if ind == Nothing\n",
    "        ind = rand(1:n);\n",
    "    end\n",
    "\n",
    "    M = (1.0I - Pπ);\n",
    "    M[:, ind] .= 1;\n",
    "    invM = inv(M);\n",
    "    z = invM*πr;\n",
    "    g = z[ind];\n",
    "    z[ind] = 0;\n",
    "    h = z;\n",
    "    return h, g;\n",
    "end"
   ]
  },
  {
   "cell_type": "code",
   "execution_count": null,
   "id": "3e63c576",
   "metadata": {},
   "outputs": [],
   "source": [
    "function policyIterationAr(d_0, lenS, genS, A, r, p; n_max=100, verbose=false)\n",
    "    h_n = Nothing;\n",
    "    g_n = Nothing;\n",
    "    d_n = d_0;\n",
    "    \n",
    "    for it in 1:n_max\n",
    "        h_n, g_n = evalPolicyAr(d_n, genS, r, p);\n",
    "        d_np1 = hImprovingAr(h_n, g_n, lenS, genS, A, r, p);\n",
    "        if d_n == d_np1\n",
    "            if verbose\n",
    "                println(\"\\nConverged (iteration={})\".format(it));\n",
    "            end\n",
    "            break;\n",
    "        end\n",
    "        d_n = d_np1;\n",
    "    end\n",
    "    return d_n, h_n, g_n;\n",
    "end"
   ]
  },
  {
   "cell_type": "code",
   "execution_count": null,
   "id": "ab3fb8f2",
   "metadata": {},
   "outputs": [],
   "source": [
    "function runAllHeuristics(heur2, lenS, genS, A, r, λ, p; heur3=nothing)\n",
    "    mPolicyOpt = myopic_policy(A, r, λ, genS);\n",
    "    h2PolicyOpt = heur2(λ, p);\n",
    "    _, gmOpt = evalPolicyAr(mPolicyOpt, genS, r, p);\n",
    "    _, gh2Opt = evalPolicyAr(h2PolicyOpt, genS, r, p);\n",
    "    \n",
    "    optPol, _, g = policy_iteration_ar(h2PolicyOpt, lenS, genS, A, r, p);\n",
    "    d = Dict()\n",
    "    \n",
    "    d[\"pol_opt\"] = optPol\n",
    "    d[\"pol_myopic\"] = mPolicyOpt\n",
    "    d[\"pol_heur2\"] = h2PolicyOpt\n",
    "    \n",
    "    d[\"g_opt\"] = g\n",
    "    d[\"g_myopic\"] = gmOpt\n",
    "    d[\"g_heur2\"] = gh2Opt\n",
    "    \n",
    "    d[\"g/g_myopic\"] = g/gmOpt\n",
    "    d[\"g/g_heur2\"] = g/gh2Opt\n",
    "    \n",
    "    d[\"g_myopic/g_heur2\"] = gmOpt/gh2Opt\n",
    "    \n",
    "    d[\"p\"] = p\n",
    "    \n",
    "    if heur3 != nothing\n",
    "        h3PolicyOpt = heur3(λ, p);\n",
    "        d[\"pol_heur3\"] = []\n",
    "        d[\"g_heur3\"] = []\n",
    "        d[\"g/g_heur3\"] = []\n",
    "        d[\"g_myopic/g_heur3\"] = []\n",
    "        for row in h3PolicyOpt\n",
    "            cols = []\n",
    "            gs = []\n",
    "            opt_gs = []\n",
    "            myo_gs = []\n",
    "            for col in row\n",
    "                _, gh3Opt = evaluate_policy_ar(col, genS, r, p);\n",
    "                push!(cols, col)\n",
    "                push!(gs, gh3Opt)\n",
    "                push!(opt_gs, g/gh3Opt)\n",
    "                push!(myo_gs, gmOpt/gh3Opt)\n",
    "            end\n",
    "            push!(d[\"pol_heur3\"], cols)\n",
    "            push!(d[\"g_heur3\"], gs)\n",
    "            push!(d[\"g/g_heur3\"], opt_gs)\n",
    "            push!(d[\"g_myopic/g_heur3\"], myo_gs)\n",
    "        end\n",
    "    end\n",
    "    return d\n",
    "end"
   ]
  }
 ],
 "metadata": {
  "kernelspec": {
   "display_name": "Julia 1.10.0",
   "language": "julia",
   "name": "julia-1.10"
  },
  "language_info": {
   "file_extension": ".jl",
   "mimetype": "application/julia",
   "name": "julia",
   "version": "1.10.0"
  }
 },
 "nbformat": 4,
 "nbformat_minor": 5
}
